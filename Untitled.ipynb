{
 "cells": [
  {
   "cell_type": "code",
   "execution_count": 15,
   "metadata": {},
   "outputs": [
    {
     "name": "stdout",
     "output_type": "stream",
     "text": [
      "Total de Usuarios: 4201696\n",
      "Total de Revisiones: 5833321\n",
      "Usuarios Maliciosos: []\n",
      "Cantidad de Usuarios Maliciosos: 0\n",
      "Usuarios Extremadamente Justos: 0\n",
      "Proporción de Usuarios Extremadamente Justos: 0.0\n"
     ]
    }
   ],
   "source": [
    "import csv\n",
    "\n",
    "# Definir la ruta de tu archivo CSV\n",
    "csv_file_path = 'ratings_Electronics.csv'\n",
    "\n",
    "# Inicializar diccionario para almacenar los datos del usuario y sus revisiones\n",
    "reviews_data = {}\n",
    "\n",
    "# Leer el archivo CSV y almacenar los datos en el diccionario\n",
    "with open(csv_file_path, 'r', encoding='utf-8') as file:\n",
    "    csv_reader = csv.reader(file)\n",
    "    next(csv_reader)  # Saltar la primera fila si contiene encabezados\n",
    "\n",
    "    for row in csv_reader:\n",
    "        user_id, product_id, rating, timestamp = row\n",
    "        user_id = user_id.strip()  # Eliminar posibles espacios en blanco alrededor del ID de usuario\n",
    "        rating = float(rating)  # Convertir la calificación a un número flotante\n",
    "\n",
    "        # Agregar la revisión al diccionario\n",
    "        if user_id not in reviews_data:\n",
    "            reviews_data[user_id] = {'positive_reviews': 0, 'extremely_positive_reviews': 0}\n",
    "\n",
    "        if rating == 5.0:\n",
    "            reviews_data[user_id]['extremely_positive_reviews'] += 1\n",
    "        elif rating > 3.0:\n",
    "            reviews_data[user_id]['positive_reviews'] += 1\n",
    "\n",
    "total_users = len(reviews_data)\n",
    "total_reviews = sum(reviews['positive_reviews'] + reviews['extremely_positive_reviews'] for reviews in reviews_data.values())\n",
    "\n",
    "print(\"Total de Usuarios:\", total_users)\n",
    "print(\"Total de Revisiones:\", total_reviews)\n",
    "\n",
    "# Aplicar el algoritmo REV2 a los datos\n",
    "gamma_1 = 0.7\n",
    "gamma_2 = 0.5\n",
    "\n",
    "malicious_users = []\n",
    "extremely_fair_users = 0\n",
    "\n",
    "for user, reviews in reviews_data.items():\n",
    "    total_user_reviews = reviews['positive_reviews'] + reviews['extremely_positive_reviews']\n",
    "\n",
    "    if total_user_reviews >= 5:\n",
    "        positive_ratio = reviews['positive_reviews'] / total_user_reviews\n",
    "        fairness = gamma_1 * positive_ratio + gamma_2 * (reviews['extremely_positive_reviews'] / total_user_reviews)\n",
    "\n",
    "        # Identificar usuarios maliciosos y extremadamente justos\n",
    "        if fairness <= 0.2:\n",
    "            malicious_users.append(user)\n",
    "        elif fairness >= 0.9 and total_user_reviews >= 10:\n",
    "            extremely_fair_users += 1\n",
    "\n",
    "# Imprimir información adicional\n",
    "print(\"Usuarios Maliciosos:\", malicious_users)\n",
    "print(\"Cantidad de Usuarios Maliciosos:\", len(malicious_users))\n",
    "print(\"Usuarios Extremadamente Justos:\", extremely_fair_users)\n",
    "print(\"Proporción de Usuarios Extremadamente Justos:\", extremely_fair_users / len(reviews_data))"
   ]
  },
  {
   "cell_type": "code",
   "execution_count": null,
   "metadata": {},
   "outputs": [],
   "source": []
  }
 ],
 "metadata": {
  "kernelspec": {
   "display_name": "Python 3",
   "language": "python",
   "name": "python3"
  },
  "language_info": {
   "codemirror_mode": {
    "name": "ipython",
    "version": 3
   },
   "file_extension": ".py",
   "mimetype": "text/x-python",
   "name": "python",
   "nbconvert_exporter": "python",
   "pygments_lexer": "ipython3",
   "version": "3.8.10"
  }
 },
 "nbformat": 4,
 "nbformat_minor": 4
}
