{
 "cells": [
  {
   "cell_type": "markdown",
   "metadata": {},
   "source": [
    "# Punto 1\n",
    "## a) ¿Quién ganaría por eliminación iterativa?\n",
    "Cada jugador tiene un orden de preferencias entre las alternativas del universo de opciones.\n",
    "Definimos las propiedades que queremos que tenga la función objetivo, es decir la que mapea las preferencias para definir al ganador. Vamos a trabajar con una función de decisión social. Para la eliminación iterativa vamos a realizar un recuento de votos y eliminar al candidato con menos votos en cada ronda. \n"
   ]
  },
  {
   "cell_type": "code",
   "execution_count": 11,
   "metadata": {},
   "outputs": [
    {
     "name": "stdout",
     "output_type": "stream",
     "text": [
      "El ganador por eliminación iterativa es C\n"
     ]
    }
   ],
   "source": [
    "from collections import Counter\n",
    "\n",
    "votes = Counter()\n",
    "\n",
    "candidates = [\"A\", \"B\", \"C\", \"D\"]\n",
    "voting_jury = [[\"B\", \"C\", \"D\", \"A\"], [\"C\", \"D\", \"A\", \"B\"], [\"D\", \"A\", \"B\", \"C\"]]\n",
    "\n",
    "def total_votes():\n",
    "    votes = Counter()\n",
    "    for votes_jury in voting_jury:\n",
    "        votes[votes_jury[0]] += 1\n",
    "    return votes\n",
    "\n",
    "def get_winner():\n",
    "    global voting_jury\n",
    "    \n",
    "    while len(candidates) > 1:\n",
    "        votes = total_votes()\n",
    "        loser = min(votes, key=votes.get)\n",
    "        del candidates[candidates.index(loser)]\n",
    "\n",
    "        voting_jury = [[candidate for candidate in preference if candidate in candidates] \n",
    "                       for preference in voting_jury]\n",
    "\n",
    "    winner = candidates[0]\n",
    "    print(f\"El ganador por eliminación iterativa es {winner}\")\n",
    "\n",
    "get_winner()"
   ]
  },
  {
   "cell_type": "markdown",
   "metadata": {},
   "source": [
    "## b) ¿Quién ganaría por Borda rule?\n",
    "Borda Rule nos dice que si hay n-1 opciones le asigno n-1 puntos a cada opción, en orden decreciente. Es decir, cada votante elige su orden de preferencia y asigna n-1 puntos a su favorito, n-2 al segundo, y así hasta asignar 0 al último. Gana el candidato que tenga más puntos.\n",
    "\n",
    "En nuestro ejemplo, como hay 4 candidatos el candidato en la primera posición recibe 3 puntos, el segundo 2 puntos, el tercero 1 punto y el cuarto candidato 0 puntos.\n",
    "\n",
    "Candidato A: 0 + 1 + 2 = 3 puntos\n",
    "Candidato B: 3 + 0 + 1 = 4 puntos\n",
    "Candidato C: 2 + 3 + 0 = 5 puntos\n",
    "Candidato D: 1 + 2 + 3 = 6 puntos\n",
    "\n",
    "Por lo tanto según esta regla el candidato ganador es D."
   ]
  },
  {
   "cell_type": "markdown",
   "metadata": {},
   "source": [
    "## c) Sistema de votación que asegure la victoria de A.\n",
    "Se podría asignar un mayor puntaje a los votos destinados a A, por ejemplo si hubiera un dictador que prefiera a A por sobre el resto. Pero esto tendría que afectar el principio de equidad y justicia en la votación.\n",
    "\n",
    "En el ejemplo dado ninguno prefiere a A por sobre todo el resto. Entonces si ganara A no se cumpliría con la propiedad de Pareto-eficiente, es decir que nunca se va a elegir a una alternativa A1 siendo que hay una alternativa A2 que todos prefieren. En este caso todos prefieren al candidato D por sobre A.\n",
    "Aunque una dictadura es una función de bienestar Pareto-eficiente."
   ]
  },
  {
   "cell_type": "markdown",
   "metadata": {},
   "source": [
    "# Punto 2\n",
    "Como vimos en clase, la cascada de información es el fenómeno en el cual se traspasa información. En este caso las decisiones se toman en forma secuencial a partir de la información sobre la ganancia de todos los individuos que vinieron antes.  \n",
    "La señal nos da información útil de si conviene aceptar.  \n",
    "\n",
    "Las cascadas pueden estar equivocadas porque se basan en muy poca información, entonces la información de unos pocos se ve magnificada.  \n",
    "A partir de un cierto threshold la cascada se produce. Pero también podría considerarse a las cascadas como frágiles, pudiéndose detener.\n"
   ]
  },
  {
   "cell_type": "markdown",
   "metadata": {},
   "source": [
    "a) La decisión de un individuo se va a ver influenciada por las decisiones de los que vinieron antes. Si los primeros en adoptar la tecnología experimentan ganancias negativas esto va a enviar una señal negativa a los siguientes individuos. De esta manera se producirá una cascada de rechazo, haciendo que cada individuo tome la decisión de rechazar la tecnología ya que cada individuo tendrá en cuenta las experiencias negativas anteriores.\n",
    "Si la tecnología es mala, podría decirse que rechazarla va a ser la estrategia dominante.\n",
    "\n",
    "b) Aunque podría surgir una cascada de rechazo sería menos probable que en el caso anterior. Si la tecnología es buena, la información acumulativa de las ganancias positivas debería fomentar que los individuos adopten la tecnología como buena, produciendo una cascada de aceptación.\n",
    "Podría darse que la desconfianza inicial obstaculizara la formación de una cascada positiva. \n",
    "En este caso tenderíamos a pensar que la estrategia dominante va a ser aceptar la tecnología.\n"
   ]
  },
  {
   "cell_type": "markdown",
   "metadata": {},
   "source": [
    "# Punto 3\n",
    "## a) E y F son early adopters.\n",
    "E y F son early adopters.\n",
    "Recordando que early adopters significa que no importa lo que pase, los nodos siempre van a elegir A. Y además la regla del umbral (threshold) dice que para que un nodo adopte un comportamiento, al menos la mitad de sus vecinos debe haber adoptado ese comportamiento, procederemos a analizar el ejemplo dado.\n",
    "\n",
    "Vamos a graficar el grafo inicial y la evolución de los nodos:"
   ]
  },
  {
   "cell_type": "code",
   "execution_count": 12,
   "metadata": {},
   "outputs": [
    {
     "data": {
      "image/png": "[encoded data removed]",
      "text/plain": [
       "<Figure size 432x288 with 1 Axes>"
      ]
     },
     "metadata": {},
     "output_type": "display_data"
    }
   ],
   "source": [
    "import networkx as nx\n",
    "import matplotlib.pyplot as plt\n",
    "\n",
    "nodes = ['C', 'E', 'F', 'I', 'K', 'G', 'D', 'H', 'J']\n",
    "conections = [('C', 'E'), ('C', 'F'), ('E', 'I'), ('I', 'F'), ('I', 'K'),\n",
    "              ('F', 'G'), ('F', 'C'), ('F', 'I'), ('G', 'D'), ('G', 'J'), ('G', 'F'),\n",
    "              ('K', 'I'), ('K', 'J'), ('D', 'G'), ('D', 'H'), ('H', 'D'), ('H', 'J'), ('J', 'K'),\n",
    "              ('J', 'G'), ('J', 'H')]\n",
    "\n",
    "G = nx.Graph()\n",
    "G.add_nodes_from(nodes)\n",
    "G.add_edges_from(conections)\n",
    "\n",
    "eatly_adopters_A = ['E', 'F', 'C', 'I','K']\n",
    "\n",
    "nodes_colors = ['red' if node in eatly_adopters_A else 'green' for node in G.nodes]\n",
    "\n",
    "positions = nx.spring_layout(G)\n",
    "nx.draw(G, pos=positions, with_labels=True, node_color=nodes_colors, node_size=800, font_size=10,\n",
    "        font_color='white', font_weight='bold')\n",
    "\n",
    "plt.show()"
   ]
  },
  {
   "cell_type": "markdown",
   "metadata": {},
   "source": [
    "En la primer iteración:  \n",
    "C tiene dos vecinos (E,F) que adoptaron el comportamiento A. Por lo tanto C adopta el comportamiento A.  \n",
    "G tiene a 2 de sus vecino (D,J) que no adoptaron el comportamiento A, por lo tanto no lo adopta.  \n",
    "I tiene dos vecinos (E,F) que adoptaron el comportamiento A. Por lo tanto C adopta el comportamiento A.  \n",
    "K en la primer iteración no tiene vecinos con el comportamiento A, por lo tanto no lo adopta.  \n",
    "\n",
    "En la segunda iteración:  \n",
    "K tiene a la mitad de sus vecinos que adoptaron el comportamiento A, por lo tanto lo adopta.  \n",
    "Pero el resto de los nodos no adoptarán el comportamiento A, ya que al menos la mitad de sus vecinos no lo adoptaron.  \n",
    "Por lo tanto los nodos que implementarán el comportamiento A serán: E,F,C,I,K.  "
   ]
  },
  {
   "cell_type": "markdown",
   "metadata": {},
   "source": [
    "## b) El comportamiento A no se propaga a través de toda la red\n",
    "En el ejemplo dado podemos pensar que tenemos dos componentes conexas o comunidades. Una formada por los nodos C,E,F,I,K y otra formada por los nodos G,D,H,J.  \n",
    "La característica que impide que el comportamiento A se propague por toda la red es la presencia de estas comunidades sin conexiones significativas entre ellas. Es decir, la red está dividida en dos componentes que no están fuertemente interconectadas.  \n",
    "Cuando la red tiene componentes o comunidades de este tipo, la información o el comportamiento tiende a quedar confinado en dichas comunidades, sin propagarse a través de la red.  \n",
    "\n",
    "Para que el comportamiento A se propague por toda la red tendría que haber un early adopter de A en cada comunidad. Es decir  si G fuera un early adopter, el resto de los nodos implementarían el comportamiento A.\n"
   ]
  },
  {
   "cell_type": "code",
   "execution_count": null,
   "metadata": {},
   "outputs": [],
   "source": []
  }
 ],
 "metadata": {
  "kernelspec": {
   "display_name": "Python 3",
   "language": "python",
   "name": "python3"
  },
  "language_info": {
   "codemirror_mode": {
    "name": "ipython",
    "version": 3
   },
   "file_extension": ".py",
   "mimetype": "text/x-python",
   "name": "python",
   "nbconvert_exporter": "python",
   "pygments_lexer": "ipython3",
   "version": "3.8.10"
  }
 },
 "nbformat": 4,
 "nbformat_minor": 4
}
